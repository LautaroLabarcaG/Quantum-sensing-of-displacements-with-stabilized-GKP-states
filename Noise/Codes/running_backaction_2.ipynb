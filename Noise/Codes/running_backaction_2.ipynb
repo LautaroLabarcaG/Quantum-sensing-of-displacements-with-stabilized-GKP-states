{
 "cells": [
  {
   "cell_type": "code",
   "execution_count": 1,
   "id": "7f02abdd",
   "metadata": {},
   "outputs": [],
   "source": [
    "import os\n",
    "import qutip as qu\n",
    "from qutip import *\n",
    "import numpy as np\n",
    "from joblib import Parallel, delayed\n",
    "from scipy.linalg import *\n",
    "import os\n",
    "import shutil\n",
    "# from multiprocessing import Process\n",
    "from pathlib import Path\n",
    "from tqdm import tqdm\n",
    "import pickle\n",
    "import scipy as sp\n",
    "\n",
    "import importlib\n",
    "import general_functions\n",
    "import sBs_noise_analysis\n",
    "import plotsmodule\n",
    "import yaml\n",
    "import metrology_noise\n",
    "import bits\n",
    "import backaction_noise\n",
    "importlib.reload(general_functions)\n",
    "importlib.reload(sBs_noise_analysis)\n",
    "importlib.reload(plotsmodule)\n",
    "importlib.reload(yaml)\n",
    "importlib.reload(metrology_noise)\n",
    "importlib.reload(bits)\n",
    "importlib.reload(backaction_noise)\n",
    "from general_functions import *\n",
    "from plotsmodule import *\n",
    "from metrology_noise import *\n",
    "from bits import *\n",
    "from general_functions import * \n",
    "# from general_functions import (\n",
    "#     MSD_v,\n",
    "#     sBs_stabilization,\n",
    "#     save_plot_data,\n",
    "# )\n",
    "from sBs_noise_analysis import *"
   ]
  },
  {
   "cell_type": "code",
   "execution_count": 2,
   "id": "c372dc2c",
   "metadata": {},
   "outputs": [],
   "source": [
    "cwd = os.getcwd()\n",
    "path_QS = os.path.dirname(os.path.dirname(cwd))+ '/'\n",
    "path_QS_noiseless = path_QS + 'Noiseless/'\n",
    "path_QS_noiseless_data = path_QS_noiseless + 'Data/'\n",
    "path_QS_noiseless_results = path_QS_noiseless_data + 'Results/'\n",
    "path_QS_noise = path_QS + 'Noise/'\n",
    "path_QS_noise_results = path_QS_noise + 'Results/'\n",
    "path_QS_noise_results_backaction = path_QS_noise_results + 'backaction/'\n",
    "path_QS_noise_results_eachnoise = path_QS_noise_results + 'eachnoise/'\n",
    "path_QS_noise_results_exact = path_QS_noise_results + 'exact/'\n",
    "path_QS_noise_results_states = path_QS_noise_results + 'Input_states/'\n",
    "path_QS_noise_results_qorppath = path_QS_noise_results + 'q_or_p_bitstring_paths/'\n",
    "path_QS_figures = path_QS + 'Figures/'\n",
    "path_QS_figures_data = path_QS_figures + 'data/'"
   ]
  },
  {
   "cell_type": "markdown",
   "id": "6030328c",
   "metadata": {},
   "source": [
    "# Getting the fidelity"
   ]
  },
  {
   "cell_type": "markdown",
   "id": "93fcf46d",
   "metadata": {},
   "source": [
    "### checking the estimator"
   ]
  },
  {
   "cell_type": "code",
   "execution_count": 3,
   "id": "33ca5c17",
   "metadata": {},
   "outputs": [
    {
     "name": "stdout",
     "output_type": "stream",
     "text": [
      "[-1.         -0.96610169 -0.93220339 -0.89830508 -0.86440678 -0.83050847\n",
      " -0.79661017 -0.76271186 -0.72881356 -0.69491525 -0.66101695 -0.62711864\n",
      " -0.59322034 -0.55932203 -0.52542373 -0.49152542 -0.45762712 -0.42372881\n",
      " -0.38983051 -0.3559322  -0.3220339  -0.28813559 -0.25423729 -0.22033898\n",
      " -0.18644068 -0.15254237 -0.11864407 -0.08474576 -0.05084746 -0.01694915\n",
      "  0.01694915  0.05084746  0.08474576  0.11864407  0.15254237  0.18644068\n",
      "  0.22033898  0.25423729  0.28813559  0.3220339   0.3559322   0.38983051\n",
      "  0.42372881  0.45762712  0.49152542  0.52542373  0.55932203  0.59322034\n",
      "  0.62711864  0.66101695  0.69491525  0.72881356  0.76271186  0.79661017\n",
      "  0.83050847  0.86440678  0.89830508  0.93220339  0.96610169  1.        ]\n",
      "(60, 4)\n",
      "(60, 256)\n",
      "[ 0.11650467  0.00773555 -0.00776296 -0.11652168]\n",
      "[ 0.11650467  0.00773555 -0.00776296 -0.11652168]\n"
     ]
    }
   ],
   "source": [
    "#load the data and build the estimators dictionary\n",
    "name1 = 'Data - qbits - params'+str(151)\n",
    "results1 = np.load(path_QS_noise_results_qorppath+name1+'.npz')\n",
    "vlist1 = results1['vlist']\n",
    "p_array1 = results1['p_array']\n",
    "qf_array1 = results1['qf_array']\n",
    "pf_array1 = results1['pf_array']\n",
    "\n",
    "name2 = 'Data - qbits - params'+str(204)\n",
    "results2 = np.load(path_QS_noise_results_qorppath+name2+'.npz')\n",
    "vlist2 = results2['vlist']\n",
    "p_array2 = results2['p_array']\n",
    "qf_array2 = results2['qf_array']\n",
    "pf_array2 = results2['pf_array']\n",
    "\n",
    "p_array1_T = []\n",
    "for i in range(len(vlist1)):\n",
    "    p_array1_T.append(marginalize_probs(p_array1[i], 2)) #marginalize the probabilities to get the probabilities of each bitstring of qbits, for a given displacement q0\n",
    "p_array1_T = np.array(p_array1_T)\n",
    "print(vlist1/l)\n",
    "stddev = 0.15 * l # should be 0.15l or 0.10l\n",
    "print(p_array1_T.shape) \n",
    "print(p_array1.shape)\n",
    "estimators_1 = estimators_from_parray(p_array1_T,vlist1,stddev) #estimator associated to each bitstring of qbits, for fix p0. Not ideal, but close to the ideal.\n",
    "estimators_2 = estimators_from_parray(p_array2,vlist2,stddev) #estimator associated to each bitstring of qbits, for fix p0. Not ideal, but close to the ideal.\n",
    "print(estimators_1/l)\n",
    "print(estimators_2/l)"
   ]
  },
  {
   "cell_type": "markdown",
   "id": "707c70d7",
   "metadata": {},
   "source": [
    "### defining system dict"
   ]
  },
  {
   "cell_type": "code",
   "execution_count": 4,
   "id": "dac99769",
   "metadata": {},
   "outputs": [],
   "source": [
    "def load_system_dict(idx, param_path):\n",
    "    param_filename = \"params{}.yaml\".format(idx)\n",
    "    params = params = yaml.safe_load(Path(param_path + param_filename).read_text())\n",
    "    delta = params[\"state_params\"][\"delta\"]\n",
    "    l = np.sqrt(2 * np.pi)\n",
    "    t_cd_B = params[\"simulations\"][\"t_CD_B\"]\n",
    "\n",
    "    N_c = params[\"dimensions\"][\"cavity\"]\n",
    "    N_q = params[\"dimensions\"][\"qubit\"]\n",
    "    qubit_T1 = params[\"decays\"][\"qubit_T1\"]\n",
    "    qubit_T2 = params[\"decays\"][\"qubit_T2\"]\n",
    "    cavity_T1 = params[\"decays\"][\"cavity_T1\"]\n",
    "    cavity_T2 = params[\"decays\"][\"cavity_T2\"]\n",
    "\n",
    "    T_1q = round(qubit_T1/ t_cd_B, 5)\n",
    "    T_2q = round(qubit_T2/ t_cd_B, 5)\n",
    "    T_1c = round(cavity_T1/ t_cd_B, 5)\n",
    "    T_2c = round(cavity_T2/ t_cd_B, 5)\n",
    "\n",
    "    T_qphi = 1 / (1 / T_2q - 1 / (2 * T_1q))\n",
    "    T_cphi = 1 / (1 / T_2c - 1 / (2 * T_1c))\n",
    "\n",
    "\n",
    "    init_state_dict = np.load(\n",
    "                    \"../Results/Input_states/coherent_sensor_state_delta_{}-Nc{}-{}.npz\".format(int(100 * delta), N_c, params[\"decays\"][\"ratio\"])\n",
    "                )\n",
    "    init_state = init_state_dict['rho_f_array'][0]\n",
    "\n",
    "    c_ops = [\n",
    "            qu.tensor(qu.sigmam(), qu.qeye(N_c)) / np.sqrt(T_1q),\n",
    "            qu.tensor(qu.qeye(N_q), qu.destroy(N_c)) / np.sqrt(T_1c),\n",
    "            # qu.tensor(qu.qeye(N_q) - qu.sigmaz(), qu.qeye(N_c)) / np.sqrt(2 * T_qphi),\n",
    "            qu.tensor(qu.sigmaz(), qu.qeye(N_c)) / np.sqrt(2 * T_qphi),\n",
    "            qu.tensor(qu.qeye(N_q), np.sqrt(2) * qu.destroy(N_c).dag() * qu.destroy(N_c)) / np.sqrt(T_cphi),\n",
    "        ]\n",
    "\n",
    "    system_dict = {\n",
    "        \"dimensions\": {\"qubit\": N_q, \"cavity\": N_c,},\n",
    "        \"operators\": {\n",
    "            \"qubit\": {\n",
    "                \"sx\": qu.sigmax(),\n",
    "                \"sy\": qu.sigmay(),\n",
    "                \"sz\": qu.sigmaz(),\n",
    "                \"sm\": qu.sigmam(),\n",
    "            },\n",
    "            \"cavity\": {\"a\": qu.destroy(N_c)},\n",
    "        },\n",
    "        \"state_params\": {\"l\": l, \"delta\": delta},\n",
    "        \"timings\": {\"t_B\": np.linspace(0, 1.0, 51),},\n",
    "        \"c_ops\": c_ops,\n",
    "        \"simulations\": {\n",
    "            \"r\": params['simulations']['r'],\n",
    "            \"sensor\": qu.Qobj(init_state),\n",
    "            'p_0': l * params['simulations']['p_0'],\n",
    "            'T': params['simulations']['T'],\n",
    "            'M': params['simulations']['M'],\n",
    "            'N': params['simulations']['N'],\n",
    "            'stddev': params['simulations']['stddev'],\n",
    "        },\n",
    "        \"data\": {\n",
    "            \"idx_data_q\":151,\n",
    "            \"idx_data_p\": 152,\n",
    "            \"path_data\": path_QS_noise_results_qorppath\n",
    "        },\n",
    "    }\n",
    "    return system_dict, params"
   ]
  },
  {
   "cell_type": "markdown",
   "id": "6d35664b",
   "metadata": {},
   "source": [
    "### running"
   ]
  },
  {
   "cell_type": "code",
   "execution_count": null,
   "id": "dc805039",
   "metadata": {},
   "outputs": [
    {
     "name": "stderr",
     "output_type": "stream",
     "text": [
      "  0%|          | 0/2 [00:00<?, ?it/s]"
     ]
    },
    {
     "name": "stdout",
     "output_type": "stream",
     "text": [
      "Recovery is off for idx 25\n"
     ]
    },
    {
     "name": "stderr",
     "output_type": "stream",
     "text": [
      " 50%|█████     | 1/2 [2:48:06<2:48:06, 10086.32s/it]"
     ]
    },
    {
     "name": "stdout",
     "output_type": "stream",
     "text": [
      "Recovery is off for idx 26\n"
     ]
    }
   ],
   "source": [
    "#backaction, starting at 20. \n",
    "#20-26, T in 2 to 8, T+M = 12, Delta =0.3, 1.0 yale, fidelity, no recovery \n",
    "#27-33, T in 2 to 8, T+M = 12, Delta =0.3, 1.0 yale, fidelity, with simple recovery\n",
    "#34 and 35 for performance\n",
    "#36-42, T in 2 to 8, T+M = 12, Delta = 0.3, 1.0 yale, fidelity, with simple recovery, qrange 0 to 0.45l, 40 steps. \n",
    "\n",
    "\n",
    "#q_or_p_bitstring_paths\n",
    "#151-152, delta = 0.3, 1.0 yale, 8 rounds, p0=0, q0=0 #use these results for backaction evading inputs\n",
    "#264-267, delta = 0.3, 1.0 yale, 1,2,4,8 rounds, q0=0 \n",
    "# 203-205, delta = 0.3, 1.0 yale, 1,2,4 rounds, p0=0\n",
    "\n",
    "\n",
    "index_range = list(np.arange(25,27)) \n",
    "delta = 0.3\n",
    "recovery_yes_range = np.arange(36, 43)\n",
    "recovery_no_range = np.arange(20, 27)\n",
    "\n",
    "for idx in tqdm(index_range):\n",
    "    system_dict, params = load_system_dict(idx, path_sbs_noise_params_backaction)\n",
    "    if idx in recovery_yes_range:\n",
    "        system_dict['recovery'] = 'yes'\n",
    "        print(\"Recovery is on for idx {}\".format(idx))\n",
    "    elif idx in recovery_no_range:\n",
    "        system_dict['recovery'] = 'no'\n",
    "        print(\"Recovery is off for idx {}\".format(idx))\n",
    "    fidelities, probabilities, bitstrings, traces, purities = backaction_evading_sBs_fidelities_probs_allqbits_simplerecovery_parallel(system_dict,params)\n",
    "\n",
    "    dict_save = {}\n",
    "    dict_save['fidelities'] = fidelities\n",
    "    dict_save['probabilities'] = probabilities\n",
    "    dict_save['bitstrings'] = bitstrings\n",
    "    dict_save['traces'] = traces\n",
    "    dict_save['purities'] = purities\n",
    "    name = 'Data - params{}.npz'.format(idx)\n",
    "    np.savez(path_QS_noise_results_backaction + name, **dict_save)\n"
   ]
  },
  {
   "cell_type": "markdown",
   "id": "182af22c",
   "metadata": {},
   "source": [
    "# Running backaction"
   ]
  },
  {
   "cell_type": "markdown",
   "id": "daa5b7b5",
   "metadata": {},
   "source": [
    "## system dict"
   ]
  },
  {
   "cell_type": "code",
   "execution_count": null,
   "id": "55b8e6be",
   "metadata": {},
   "outputs": [],
   "source": [
    "def load_system_dict(idx, param_path):\n",
    "    param_filename = \"params{}.yaml\".format(idx)\n",
    "    params = params = yaml.safe_load(Path(param_path + param_filename).read_text())\n",
    "    delta = params[\"state_params\"][\"delta\"]\n",
    "    l = np.sqrt(2 * np.pi)\n",
    "    t_cd_B = params[\"simulations\"][\"t_CD_B\"]\n",
    "\n",
    "    N_c = params[\"dimensions\"][\"cavity\"]\n",
    "    N_q = params[\"dimensions\"][\"qubit\"]\n",
    "    qubit_T1 = params[\"decays\"][\"qubit_T1\"]\n",
    "    qubit_T2 = params[\"decays\"][\"qubit_T2\"]\n",
    "    cavity_T1 = params[\"decays\"][\"cavity_T1\"]\n",
    "    cavity_T2 = params[\"decays\"][\"cavity_T2\"]\n",
    "\n",
    "    T_1q = round(qubit_T1/ t_cd_B, 5)\n",
    "    T_2q = round(qubit_T2/ t_cd_B, 5)\n",
    "    T_1c = round(cavity_T1/ t_cd_B, 5)\n",
    "    T_2c = round(cavity_T2/ t_cd_B, 5)\n",
    "\n",
    "    T_qphi = 1 / (1 / T_2q - 1 / (2 * T_1q))\n",
    "    T_cphi = 1 / (1 / T_2c - 1 / (2 * T_1c))\n",
    "\n",
    "\n",
    "    init_state_dict = np.load(\n",
    "                    \"../Results/Input_states/coherent_sensor_state_delta_{}-Nc{}-{}.npz\".format(int(100 * delta), N_c, params[\"decays\"][\"ratio\"])\n",
    "                )\n",
    "    init_state = init_state_dict['rho_f_array'][0]\n",
    "\n",
    "    c_ops = [\n",
    "            qu.tensor(qu.sigmam(), qu.qeye(N_c)) / np.sqrt(T_1q),\n",
    "            qu.tensor(qu.qeye(N_q), qu.destroy(N_c)) / np.sqrt(T_1c),\n",
    "            # qu.tensor(qu.qeye(N_q) - qu.sigmaz(), qu.qeye(N_c)) / np.sqrt(2 * T_qphi),\n",
    "            qu.tensor(qu.sigmaz(), qu.qeye(N_c)) / np.sqrt(2 * T_qphi),\n",
    "            qu.tensor(qu.qeye(N_q), np.sqrt(2) * qu.destroy(N_c).dag() * qu.destroy(N_c)) / np.sqrt(T_cphi),\n",
    "        ]\n",
    "\n",
    "    system_dict = {\n",
    "        \"dimensions\": {\"qubit\": N_q, \"cavity\": N_c,},\n",
    "        \"operators\": {\n",
    "            \"qubit\": {\n",
    "                \"sx\": qu.sigmax(),\n",
    "                \"sy\": qu.sigmay(),\n",
    "                \"sz\": qu.sigmaz(),\n",
    "                \"sm\": qu.sigmam(),\n",
    "            },\n",
    "            \"cavity\": {\"a\": qu.destroy(N_c)},\n",
    "        },\n",
    "        \"state_params\": {\"l\": l, \"delta\": delta},\n",
    "        \"timings\": {\"t_B\": np.linspace(0, 1.0, 51),},\n",
    "        \"c_ops\": c_ops,\n",
    "        \"simulations\": {\n",
    "            \"r\": params['simulations']['r'],\n",
    "            \"sensor\": qu.Qobj(init_state),\n",
    "            'p_0': l * params['simulations']['p_0'],\n",
    "            'T': params['simulations']['T'],\n",
    "            'M': params['simulations']['M'],\n",
    "            'N': params['simulations']['N'],\n",
    "            'reps': params['simulations']['reps'],\n",
    "            'stddev': params['simulations']['stddev'],\n",
    "        },\n",
    "        \"data\": {\n",
    "            \"idx_data_q\":151,\n",
    "            \"idx_data_p\": 152,\n",
    "            \"path_data\": path_QS_noise_results_qorppath\n",
    "        },\n",
    "    }\n",
    "    return system_dict, params"
   ]
  },
  {
   "cell_type": "markdown",
   "id": "e1f24e66",
   "metadata": {},
   "source": [
    "## running and saving"
   ]
  },
  {
   "cell_type": "code",
   "execution_count": null,
   "id": "420b72ea",
   "metadata": {},
   "outputs": [
    {
     "name": "stderr",
     "output_type": "stream",
     "text": [
      "  0%|          | 0/4000 [00:00<?, ?it/s]"
     ]
    },
    {
     "name": "stderr",
     "output_type": "stream",
     "text": [
      "  4%|▎         | 140/4000 [21:56<11:19:32, 10.56s/it]/Users/labl2714/Projects/GKP-metrology/GKP_noise/lib/python3.10/site-packages/joblib/externals/loky/process_executor.py:752: UserWarning: A worker stopped while some jobs were given to the executor. This can be caused by a too short worker timeout or by a memory leak.\n",
      "  warnings.warn(\n",
      "  6%|▋         | 260/4000 [43:56<11:21:20, 10.93s/it]"
     ]
    }
   ],
   "source": [
    "#backaction, starting at 20. \n",
    "#20-26, T in 2 to 8, T+M = 12, Delta =0.3, 1.0 yale, fidelity, no recovery \n",
    "#27-33, T in 2 to 8, T+M = 12, Delta =0.3, 1.0 yale, fidelity, with simple recovery\n",
    "#34, T = 6, T+M=12, Delta = 0.3, 1.0 yale, N = 2, reps = 4000, with simple recovery\n",
    "#35, T = 6, T+M=12, Delta = 0.3, 1.0 yale, N = 10, reps = 4000, with simple recovery\n",
    "\n",
    "#q_or_p_bitstring_paths\n",
    "#151-152, delta = 0.3, 1.0 yale, 8 rounds, p0=0, q0=0 #use these results for backaction evading inputs\n",
    "#264-267, delta = 0.3, 1.0 yale, 1,2,4,8 rounds, q0=0 \n",
    "# 203-205, delta = 0.3, 1.0 yale, 1,2,4 rounds, p0=0\n",
    "\n",
    "index_range = list(np.arange(35,36)) \n",
    "delta = 0.3\n",
    "for idx in index_range:\n",
    "    system_dict, params = load_system_dict(idx, path_sbs_noise_params_backaction)\n",
    "    \n",
    "    squared_errors_q, squared_errors_p, estimators_q, estimators_p, q0s, p0s, bitstrings = backaction_evading_sBs_simplerecovery_parallel(system_dict, params)\n",
    "\n",
    "    dict_save = {}\n",
    "    dict_save['squared_errors_q'] = squared_errors_q\n",
    "    dict_save['squared_errors_p'] = squared_errors_p\n",
    "    dict_save['estimators_q'] = estimators_q\n",
    "    dict_save['estimators_p'] = estimators_p\n",
    "    dict_save['q0s'] = q0s\n",
    "    dict_save['p0s'] = p0s\n",
    "    dict_save['bitstrings'] = bitstrings\n",
    "    name = 'Data - params{}.npz'.format(idx)\n",
    "    np.savez(path_QS_noise_results_backaction + name, **dict_save)\n"
   ]
  },
  {
   "cell_type": "markdown",
   "id": "ca0ac746",
   "metadata": {},
   "source": [
    "# Recovery fidelity"
   ]
  },
  {
   "cell_type": "code",
   "execution_count": 6,
   "id": "0a7b0a46",
   "metadata": {},
   "outputs": [
    {
     "name": "stderr",
     "output_type": "stream",
     "text": [
      "100%|██████████| 7/7 [00:00<00:00, 130.44it/s]\n",
      "100%|██████████| 7/7 [00:00<00:00, 1624.89it/s]\n"
     ]
    }
   ],
   "source": [
    "#backaction, starting at 20. \n",
    "#20-26, T in 2 to 8, T+M = 12, Delta =0.3, 1.0 yale, fidelity, no recovery \n",
    "#27-33, T in 2 to 8, T+M = 12, Delta =0.3, 1.0 yale, fidelity, with simple recovery\n",
    "\n",
    "fidelities, probabilities, bitstrings = [], [], []\n",
    "index_range = np.arange(20,27)  # indices for which we have results\n",
    "for idx in tqdm(index_range):\n",
    "    dict_load = np.load(path_QS_noise_results_backaction + 'Data - params{}.npz'.format(idx))\n",
    "    fidelities.append(dict_load['fidelities'])\n",
    "    probabilities.append(dict_load['probabilities'])\n",
    "    bitstrings.append(dict_load['bitstrings'])\n",
    "\n",
    "fidelities_recovery, probabilities_recovery, bitstrings_recovery = [], [], []\n",
    "index_range_recovery = np.arange(36,43)  # indices for which we have results\n",
    "for idx in tqdm(index_range_recovery):\n",
    "    dict_load = np.load(path_QS_noise_results_backaction + 'Data - params{}.npz'.format(idx))\n",
    "    fidelities_recovery.append(dict_load['fidelities'])\n",
    "    probabilities_recovery.append(dict_load['probabilities'])\n",
    "    bitstrings_recovery.append(dict_load['bitstrings'])\n",
    "\n",
    "weighted_fidelities = []\n",
    "for i in range(len(fidelities)):\n",
    "   fidelity = fidelities[i]\n",
    "   prob = probabilities[i]\n",
    "   avg_fidelity = []\n",
    "   for j in range(len(fidelity)):\n",
    "        avg_fidelity.append(np.sum(fidelity[j] * prob[j]))\n",
    "    \n",
    "   weighted_fidelities.append(avg_fidelity)\n",
    "weighted_fidelities = np.array(weighted_fidelities)\n",
    "\n",
    "weighted_fidelities_recovery = []\n",
    "for i in range(len(fidelities_recovery)):\n",
    "   fidelity = fidelities_recovery[i]\n",
    "   prob = probabilities_recovery[i]\n",
    "   avg_fidelity = []\n",
    "   for j in range(len(fidelity)):\n",
    "        avg_fidelity.append(np.sum(fidelity[j] * prob[j]))\n",
    "    \n",
    "   weighted_fidelities_recovery.append(avg_fidelity)\n",
    "\n",
    "# print(weighted_fidelities)"
   ]
  },
  {
   "cell_type": "markdown",
   "id": "61b2c3ba",
   "metadata": {},
   "source": [
    "### plotting the fidelities"
   ]
  },
  {
   "cell_type": "code",
   "execution_count": 7,
   "id": "1abf3fc2",
   "metadata": {},
   "outputs": [
    {
     "name": "stdout",
     "output_type": "stream",
     "text": [
      "40\n",
      "T: 2 avg weighted fidelity: 0.981255714332447\n",
      "40\n",
      "T: 3 avg weighted fidelity: 0.9806470154166813\n",
      "40\n",
      "T: 4 avg weighted fidelity: 0.9800377614303138\n",
      "40\n",
      "T: 5 avg weighted fidelity: 0.979381049540023\n",
      "40\n",
      "T: 6 avg weighted fidelity: 0.9786467891304398\n",
      "40\n",
      "T: 7 avg weighted fidelity: 0.9778127146347805\n",
      "40\n",
      "T: 8 avg weighted fidelity: 0.9768434435502287\n",
      "T: 2 avg weighted fidelity with recovery: 0.9915773042404284\n",
      "T: 3 avg weighted fidelity with recovery: 0.9919404187444765\n",
      "T: 4 avg weighted fidelity with recovery: 0.9916212753699827\n",
      "T: 5 avg weighted fidelity with recovery: 0.9904559595170699\n",
      "T: 6 avg weighted fidelity with recovery: 0.9881173433627561\n",
      "T: 7 avg weighted fidelity with recovery: 0.9841204350478538\n",
      "T: 8 avg weighted fidelity with recovery: 0.9777629588430351\n"
     ]
    },
    {
     "data": {
      "image/png": "[encoded data removed]",
      "text/plain": [
       "<Figure size 400x250 with 1 Axes>"
      ]
     },
     "metadata": {},
     "output_type": "display_data"
    }
   ],
   "source": [
    "fig, ax = plt.subplots(1,1, figsize=(4,2.5))\n",
    "\n",
    "T_range = np.arange(2, 9)\n",
    "qrange = np.linspace(0,0.3 * l, 20)\n",
    "qrange2 = np.linspace(0,0.45 * l, 40)\n",
    "index_25 = np.argmin(np.abs(qrange -.25 * l))\n",
    "sigma = 0.15 * l\n",
    "no_recovery_fidelities = []\n",
    "prior_avg_no_recovery_fidelities = []\n",
    "recovery_fidelities = []\n",
    "prior_avg_recovery_fidelities = []\n",
    "for i in range(len(weighted_fidelities)):\n",
    "    shine = .2+.1 * i\n",
    "    print(len(weighted_fidelities[i]))\n",
    "    ax.plot(qrange2/l, weighted_fidelities[i], label='T+M={}'.format(i+2),color=lighten_color(blue, shine), lw=2, marker=None, markersize=4)\n",
    "    prior = np.exp(-qrange2**2/(2 * sigma**2))\n",
    "    prior /= np.sum(prior)\n",
    "    avg_weighted_fidelity = np.sum(weighted_fidelities[i] * prior)\n",
    "    no_recovery_fidelities.append(weighted_fidelities[i])\n",
    "    prior_avg_no_recovery_fidelities.append(avg_weighted_fidelity)\n",
    "    print(\"T:\", i+2, \"avg weighted fidelity:\", avg_weighted_fidelity)\n",
    "\n",
    "for i in range(len(weighted_fidelities_recovery)):\n",
    "    shine = .2+.1 * i \n",
    "    ax.plot(qrange2/l, weighted_fidelities_recovery[i], label='T+M={}'.format(i+2), color=lighten_color(red, shine), lw=2,marker=None, markersize=4)\n",
    "    prior = np.exp(-qrange2**2/(2 * sigma**2))\n",
    "    prior /= np.sum(prior)\n",
    "    avg_weighted_fidelity = np.sum(weighted_fidelities_recovery[i] * prior)\n",
    "    recovery_fidelities.append(weighted_fidelities_recovery[i])\n",
    "    prior_avg_recovery_fidelities.append(avg_weighted_fidelity)\n",
    "    print(\"T:\", i+2, \"avg weighted fidelity with recovery:\", avg_weighted_fidelity)\n",
    "\n",
    "ax.set_ylim(.97,1.001)\n",
    "\n",
    "\n",
    "dict_figure = {}\n",
    "dict_figure['no_recovery_fidelities'] = no_recovery_fidelities\n",
    "dict_figure['prior_avg_no_recovery_fidelities'] = prior_avg_no_recovery_fidelities\n",
    "dict_figure['recovery_fidelities'] = recovery_fidelities\n",
    "dict_figure['prior_avg_recovery_fidelities'] = prior_avg_recovery_fidelities\n",
    "dict_figure['qrange'] = qrange\n",
    "dict_figure['qrange2'] = qrange2\n",
    "dict_figure['T_range'] = T_range\n",
    "dict_figure['sigma'] = sigma\n",
    "name = 'data-figure-noisy-backaction-fidelities'\n",
    "np.savez(path_QS_figures_data + name, **dict_figure)"
   ]
  },
  {
   "cell_type": "markdown",
   "id": "c0e6f9a5",
   "metadata": {},
   "source": [
    "# Backaction performance"
   ]
  },
  {
   "cell_type": "markdown",
   "id": "5f921c3d",
   "metadata": {},
   "source": [
    "## Getting MSE different T"
   ]
  },
  {
   "cell_type": "code",
   "execution_count": 8,
   "id": "2c547577",
   "metadata": {},
   "outputs": [],
   "source": [
    "def MSE_v_onlyqorp(p_array: List, vlist: List, variance: float, r:int):\n",
    "    \"\"\"\n",
    "    Definition of Mean Square Deviation for a given variance.\n",
    "    Input:\n",
    "    - vlist : list of displacement\n",
    "    - variance : variance of the gaussian prior\n",
    "    - system_dict : dictionary containing all the parameters defining the system.\n",
    "    Return:\n",
    "    - MSD : probability distribution of a gaussian prior\n",
    "    - posterior_arr : posterior distribution\n",
    "    \"\"\"\n",
    "\n",
    "    def p_gaussian_prior(v: List, variance: float = 1):\n",
    "        p_v = (1.0 / (np.sqrt(2 * np.pi) * variance)) * np.exp(\n",
    "            -(1 / (2 * variance)) * v ** 2\n",
    "        )\n",
    "        return p_v / sum(p_v)\n",
    "    \n",
    "    def p_flat_prior(v:List, variance: float=1):\n",
    "        p_v = np.ones(len(v))\n",
    "        return p_v / sum(p_v)\n",
    "\n",
    "    # Definition of parameters\n",
    "    ds = abs(vlist[1] - vlist[0])\n",
    "\n",
    "    estimator_arr = np.empty((2 ** (r)))\n",
    "    posterior_arr = np.empty((2 ** (r), len(vlist)))\n",
    "\n",
    "    for idx in range(2 ** (r)):\n",
    "        # probability of bitstring y\n",
    "        p_y = sum(p_array[:, idx] * p_gaussian_prior(vlist, variance)) * ds #gaussian prior\n",
    "        # p_y = sum(p_array[:, idx] * p_flat_prior(vlist, variance)) * ds #flat prior\n",
    "        # posterior distribution\n",
    "        posterior = p_array[:, idx] * p_gaussian_prior(vlist, variance) / p_y #gaussian posterior\n",
    "        # posterior = p_array[:, idx] * p_flat_prior(vlist, variance) / p_y #flat posterior\n",
    "\n",
    "        posterior_arr[idx, :] = posterior\n",
    "        # estimator\n",
    "        estimator_arr[idx] = ds * sum(vlist * posterior)\n",
    "\n",
    "    MSD_v_ = np.sum(\n",
    "        p_array\n",
    "        * (\n",
    "            np.ones((len(vlist), 2 ** (r))) * estimator_arr\n",
    "            - (vlist * np.ones((2 ** (r), len(vlist)))).T\n",
    "        )\n",
    "        ** 2,\n",
    "        axis=1,\n",
    "    )\n",
    "    MSD = p_gaussian_prior(vlist, variance) * np.array(MSD_v_)\n",
    "\n",
    "    return MSD, MSD_v_, posterior_arr"
   ]
  },
  {
   "cell_type": "code",
   "execution_count": 9,
   "id": "17799e31",
   "metadata": {},
   "outputs": [
    {
     "name": "stderr",
     "output_type": "stream",
     "text": [
      "100%|██████████| 101/101 [00:00<00:00, 877.57it/s]"
     ]
    },
    {
     "name": "stdout",
     "output_type": "stream",
     "text": [
      "MSD_array shape: (101,)\n",
      "0.4551323691670699\n"
     ]
    },
    {
     "name": "stderr",
     "output_type": "stream",
     "text": [
      "\n"
     ]
    },
    {
     "data": {
      "image/png": "[encoded data removed]",
      "text/plain": [
       "<Figure size 400x250 with 1 Axes>"
      ]
     },
     "metadata": {},
     "output_type": "display_data"
    }
   ],
   "source": [
    "idx = 151\n",
    "name = 'Data - qbits - params'+str(idx)\n",
    "results = np.load(path_QS_noise_results_qorppath + name + '.npz')\n",
    "p_array = results['p_array']\n",
    "vlist = results['vlist']\n",
    "\n",
    "T = 6\n",
    "p_array_T = []\n",
    "for i in range(len(vlist)):\n",
    "    p_array_T.append(marginalize_probs(p_array[i], T)) #marginalize the probabilities to get the probabilities of each bitstring of qbits, for a given displacement q0\n",
    "p_array_T = np.array(p_array_T)\n",
    "\n",
    "variance_list = np.linspace(0.01, l / 4, 101)\n",
    "MSD_array = np.empty((len(variance_list)))\n",
    "for i in tqdm(range(len(variance_list))):\n",
    "    variance = variance_list[i]\n",
    "    MSD, MSD_displacement, posterior = MSE_v_onlyqorp(p_array_T, vlist, variance, T)\n",
    "    MSD_array[i] = np.sum(MSD,axis=0)\n",
    "\n",
    "print(\"MSD_array shape:\", MSD_array.shape)\n",
    "fig, ax = plt.subplots(1,1, figsize=(4,2.5))\n",
    "\n",
    "sigma = 0.15 * l\n",
    "index_sigma = np.argmin(np.abs(variance_list - sigma**2))\n",
    "ax.plot(np.sqrt(variance_list)/l, MSD_array/variance_list, lw=2)\n",
    "print(MSD_array[index_sigma]/variance_list[index_sigma])"
   ]
  },
  {
   "cell_type": "markdown",
   "id": "4416d32f",
   "metadata": {},
   "source": [
    "## Plotting backaction performance"
   ]
  },
  {
   "cell_type": "code",
   "execution_count": 11,
   "id": "c995f71a",
   "metadata": {},
   "outputs": [
    {
     "name": "stdout",
     "output_type": "stream",
     "text": [
      "mean q: [0.48070363 0.46073905 0.46787163 0.46505802 0.44275253 0.4770457\n",
      " 0.48133504 0.48639036 0.49810107 0.48821344]\n",
      "mean p: [0.4615813  0.48389636 0.48513015 0.47473352 0.47576161 0.48297263\n",
      " 0.48140348 0.47374418 0.48743171 0.50009491]\n"
     ]
    },
    {
     "data": {
      "image/png": "[encoded data removed]",
      "text/plain": [
       "<Figure size 400x250 with 1 Axes>"
      ]
     },
     "metadata": {},
     "output_type": "display_data"
    }
   ],
   "source": [
    "#35, T = 6, T+M=12, Delta = 0.3, 1.0 yale, N = 10, reps = 4000, with simple recovery\n",
    "\n",
    "name = 'Data - params{}.npz'.format(35)\n",
    "results = np.load(path_QS_noise_results_backaction + name)\n",
    "squared_errors_q = results['squared_errors_q']\n",
    "squared_errors_p = results['squared_errors_p']\n",
    "estimators_q = results['estimators_q']\n",
    "estimators_p = results['estimators_p']\n",
    "q0s = results['q0s']\n",
    "p0s = results['p0s']\n",
    "bitstrings = results['bitstrings']\n",
    "\n",
    "sigma = 0.15 * l\n",
    "\n",
    "MSE_q, MSE_p = [], []\n",
    "for i in range(10):\n",
    "    MSE_q.append(np.mean(squared_errors_q[:,i], axis=0))\n",
    "    MSE_p.append(np.mean(squared_errors_p[:,i], axis=0))\n",
    "MSE_q = np.array(MSE_q)\n",
    "MSE_p = np.array(MSE_p)\n",
    "print(\"mean q:\", MSE_q/sigma**2)\n",
    "print(\"mean p:\", MSE_p/sigma**2)\n",
    "\n",
    "fig, ax = plt.subplots(1,1, figsize=(4,2.5))\n",
    "ax.set_xlabel(r'$N$', fontsize=14)\n",
    "ax.plot(np.arange(10), MSE_q/sigma**2, label='q', marker='o', color=blue, lw=2)\n",
    "ax.plot(np.arange(10), MSE_p/sigma**2, label='p', marker='o', color=red, lw=2)\n",
    "\n",
    "sigma = 0.15 * l\n",
    "index_sigma = np.argmin(np.abs(variance_list - sigma**2))\n",
    "ideal_noisy_MSE = MSD_array[index_sigma]/variance_list[index_sigma]\n",
    "\n",
    "dict_figure = {}\n",
    "dict_figure['MSE_q'] = MSE_q\n",
    "dict_figure['MSE_p'] = MSE_p\n",
    "dict_figure['sigma'] = sigma\n",
    "dict_figure['N'] = 10\n",
    "dict_figure['repeat'] = 4000\n",
    "dict_figure['ideal_noisy_MSE'] = ideal_noisy_MSE \n",
    "name = 'data-figure-noisy-backaction-performance'\n",
    "np.savez(path_QS_figures_data + name, **dict_figure)"
   ]
  },
  {
   "cell_type": "markdown",
   "id": "3579bd81",
   "metadata": {},
   "source": [
    "# Creating yaml files"
   ]
  },
  {
   "cell_type": "code",
   "execution_count": 18,
   "id": "fbe9e0f2",
   "metadata": {},
   "outputs": [],
   "source": [
    "# for test purposes (these are q or p bitstring paths):\n",
    "# 200-202, delta = 0.3, 1.0 yale, 1,2,4 rounds, p0=0.15l\n",
    "# 203-205, delta = 0.3, 1.0 yale, 1,2,4 rounds, p0=0\n",
    "# 206-208, delta = 0.3, 1.0 yale, 1,2,4 rounds, p0=0.25l\n",
    "# 209-211, delta = 0.3, 1.0 yale, 1,2,4 rounds, q0=0\n",
    "\n",
    "#backaction, starting at 20. \n",
    "#20-26, T in 2 to 8, T+M = 12, Delta =0.3, 1.0 yale, fidelity, no recovery \n",
    "#34, T = 6, T+M=12, Delta = 0.3, 1.0 yale, N = 2, reps = 4000, with simple recovery\n",
    "#35, T = 6, T+M=12, Delta = 0.3, 1.0 yale, N = 10, reps = 4000, with simple recovery\n",
    "#36-42, T in 2 to 8, T+M = 12, Delta = 0.3, 1.0 yale, fidelity, with simple recovery, qrange 0 to 0.45l, 40 steps. \n",
    "\n",
    "def create_yaml_params_file(params, filename):\n",
    "    with open(filename, 'w') as file:\n",
    "        yaml.dump(params, file, default_flow_style=False)\n",
    "\n",
    "# path_create = path_sbs_noise_params_qorppaths\n",
    "# path_create = path_sbs_noise_params\n",
    "# path_create = path_sbs_noise_params_steady\n",
    "# path_create = path_sbs_noise_params_exact\n",
    "# path_create = path_sbs_noise_params_eachnoise\n",
    "path_create = path_sbs_noise_params_backaction\n",
    "\n",
    "path_to_copy = path_sbs_noise_params_backaction + 'params20.yaml'\n",
    "\n",
    "T_range = [2, 3, 4, 5, 6, 7, 8, 9, 10]\n",
    "T_dict = {2:10, 3:9, 4:8, 5:7, 6:6, 7:5, 8:4, 9:3, 10:2}\n",
    "\n",
    "for i in range(20,27):\n",
    "    filename = 'params{}.yaml'.format(i)\n",
    "    filename_copy = 'params{}.yaml'.format(i)\n",
    "    # ratio = ratio_range[i-148]\n",
    "    path_to_copy = path_create + filename_copy\n",
    "    yaml_to_copy = yaml.safe_load(Path(path_to_copy).read_text())\n",
    "    new_yaml = yaml_to_copy.copy()\n",
    "    # T = T_range[i-36]\n",
    "    # new_yaml['simulations']['n_jobs'] = 10\n",
    "    # new_yaml['simulations']['T'] = T\n",
    "    # new_yaml['simulations']['M'] = T_dict[T]\n",
    "    new_yaml['simulations']['v_lim'] = 0.45\n",
    "    new_yaml['simulations']['n_v'] = 40\n",
    "    # new_yaml['simulations']['N'] = 1\n",
    "    create_yaml_params_file(new_yaml, path_create + filename)"
   ]
  },
  {
   "cell_type": "code",
   "execution_count": null,
   "id": "3463e668",
   "metadata": {},
   "outputs": [
    {
     "name": "stdout",
     "output_type": "stream",
     "text": [
      "0 [0 0]\n",
      "1 [0 1]\n",
      "2 [1 0]\n",
      "3 [1 1]\n"
     ]
    }
   ],
   "source": []
  },
  {
   "cell_type": "code",
   "execution_count": null,
   "id": "4e8db110",
   "metadata": {},
   "outputs": [],
   "source": []
  }
 ],
 "metadata": {
  "kernelspec": {
   "display_name": "GKP_noise",
   "language": "python",
   "name": "python3"
  },
  "language_info": {
   "codemirror_mode": {
    "name": "ipython",
    "version": 3
   },
   "file_extension": ".py",
   "mimetype": "text/x-python",
   "name": "python",
   "nbconvert_exporter": "python",
   "pygments_lexer": "ipython3",
   "version": "3.10.15"
  }
 },
 "nbformat": 4,
 "nbformat_minor": 5
}
